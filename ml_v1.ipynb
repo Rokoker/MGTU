{
 "cells": [
  {
   "cell_type": "code",
   "execution_count": 2,
   "metadata": {},
   "outputs": [
    {
     "name": "stdout",
     "output_type": "stream",
     "text": [
      "Расстояние до цели  1\n",
      "Максимальная дальность до цели =  37.500000825  м\n",
      "Частота биений  59210516.12924344 Гц\n",
      "Расстояние до цели  1.1101971774233148 м\n",
      "Отношение сигнал - шум  14047.832241656066\n"
     ]
    },
    {
     "ename": "TypeError",
     "evalue": "cannot unpack non-iterable numpy.float64 object",
     "output_type": "error",
     "traceback": [
      "\u001b[1;31m---------------------------------------------------------------------------\u001b[0m",
      "\u001b[1;31mTypeError\u001b[0m                                 Traceback (most recent call last)",
      "\u001b[1;32mc:\\vs_code_projects\\MGTU\\ml_v1.ipynb Cell 1\u001b[0m line \u001b[0;36m2\n\u001b[0;32m     <a href='vscode-notebook-cell:/c%3A/vs_code_projects/MGTU/ml_v1.ipynb#W0sZmlsZQ%3D%3D?line=21'>22</a>\u001b[0m a_loc, t_loc \u001b[39m=\u001b[39m LLS\u001b[39m.\u001b[39mloc_sig_for_photodetector(a_gen,t_canal,\u001b[39m0\u001b[39m)\n\u001b[0;32m     <a href='vscode-notebook-cell:/c%3A/vs_code_projects/MGTU/ml_v1.ipynb#W0sZmlsZQ%3D%3D?line=22'>23</a>\u001b[0m freq, spec, time \u001b[39m=\u001b[39m LLS\u001b[39m.\u001b[39mp_detector(a_loc, a_buger_bgs, t_buger_bgs, graf_time \u001b[39m=\u001b[39m \u001b[39m0\u001b[39m, graf_spec \u001b[39m=\u001b[39m \u001b[39m0\u001b[39m)\n\u001b[1;32m---> <a href='vscode-notebook-cell:/c%3A/vs_code_projects/MGTU/ml_v1.ipynb#W0sZmlsZQ%3D%3D?line=23'>24</a>\u001b[0m R_target, OSH \u001b[39m=\u001b[39m  LLS\u001b[39m.\u001b[39mfind_freq_bien(spec,freq,\u001b[39m0\u001b[39m)\n\u001b[0;32m     <a href='vscode-notebook-cell:/c%3A/vs_code_projects/MGTU/ml_v1.ipynb#W0sZmlsZQ%3D%3D?line=24'>25</a>\u001b[0m x\u001b[39m.\u001b[39mappend(r)\n\u001b[0;32m     <a href='vscode-notebook-cell:/c%3A/vs_code_projects/MGTU/ml_v1.ipynb#W0sZmlsZQ%3D%3D?line=25'>26</a>\u001b[0m y\u001b[39m.\u001b[39mappend(R_target)\n",
      "\u001b[1;31mTypeError\u001b[0m: cannot unpack non-iterable numpy.float64 object"
     ]
    },
    {
     "data": {
      "image/png": "[encoded data removed]",
      "text/plain": [
       "<Figure size 640x480 with 1 Axes>"
      ]
     },
     "metadata": {},
     "output_type": "display_data"
    }
   ],
   "source": [
    "import plotly.graph_objects as go\n",
    "from IPython.display import clear_output\n",
    "import LCHM_matan\n",
    "# Ваш модуль LCHM_matan и другие зависимости ...\n",
    "\n",
    "colors = ['red', 'green', 'blue', 'skyblue', 'yellow', 'purple', 'orange', 'pink', 'brown', 'black', 'grey']\n",
    "\n",
    "fig = go.Figure()\n",
    "\n",
    "i = 0\n",
    "for noise in range(1, 100, 10):\n",
    "    x = []\n",
    "    y = []\n",
    "    z = []  # для хранения значений OSH\n",
    "    for r in [1,5,10,20,30,35,40]:\n",
    "        print(\"Расстояние до цели \", r)\n",
    "        LLS = LCHM_matan.LLS()\n",
    "        a_gen, t_gen = LLS.generator(0)\n",
    "        a_canal, t_canal = LLS.canal(a_gen, t_gen,r,0)\n",
    "        a_buger, t_buger = LLS.canal_buger(a_canal,t_canal,0)\n",
    "        a_buger_bgs, t_buger_bgs = LLS.canal_BGS(a_buger, t_buger,0,noise)\n",
    "        a_loc, t_loc = LLS.loc_sig_for_photodetector(a_gen,t_canal,0)\n",
    "        freq, spec, time = LLS.p_detector(a_loc, a_buger_bgs, t_buger_bgs, graf_time = 0, graf_spec = 0)\n",
    "        R_target =  LLS.find_freq_bien(spec,freq,0)\n",
    "        print(R_target)\n",
    "        x.append(r)\n",
    "        y.append(R_target)\n",
    "        z.append(R_target)  # добавляем значение OSH в список\n",
    "\n",
    "    scatter3d = go.Scatter3d(\n",
    "        x=x,\n",
    "        y=y,\n",
    "        z=z,  # добавляем третью координату в график\n",
    "        mode='markers',\n",
    "        marker=dict(\n",
    "            color=colors[i%11],  # добавил цикличность в выбор цветов, т.к. их у вас всего 11\n",
    "            size=5\n",
    "        ),\n",
    "        name=\"Шум заданный = \" + str(noise)\n",
    "    )\n",
    "\n",
    "    fig.add_trace(scatter3d)\n",
    "\n",
    "    clear_output(wait=True)\n",
    "    fig.show()\n",
    "\n",
    "    i += 1"
   ]
  }
 ],
 "metadata": {
  "kernelspec": {
   "display_name": "Python 3",
   "language": "python",
   "name": "python3"
  },
  "language_info": {
   "codemirror_mode": {
    "name": "ipython",
    "version": 3
   },
   "file_extension": ".py",
   "mimetype": "text/x-python",
   "name": "python",
   "nbconvert_exporter": "python",
   "pygments_lexer": "ipython3",
   "version": "3.11.1"
  },
  "orig_nbformat": 4
 },
 "nbformat": 4,
 "nbformat_minor": 2
}
