{
 "cells": [
  {
   "cell_type": "code",
   "execution_count": 1,
   "metadata": {},
   "outputs": [
    {
     "data": {
      "application/vnd.plotly.v1+json": {
       "config": {
        "plotlyServerURL": "https://plot.ly"
       },
       "data": [
        {
         "marker": {
          "color": "red",
          "size": 5
         },
         "mode": "markers",
         "name": "Шум заданный = 1",
         "type": "scatter3d",
         "x": [
          1,
          5,
          10,
          20,
          30,
          35,
          40
         ],
         "y": [
          1.1101968469206918,
          5.273435117066508,
          9.926466565096787,
          20.13157236752293,
          30.267846563524113,
          -1,
          -1
         ],
         "z": [
          9677.072302514725,
          5862.474842242491,
          5330.197179950121,
          3173.7097261215454,
          1242.7824997551174,
          0,
          0
         ]
        },
        {
         "marker": {
          "color": "green",
          "size": 5
         },
         "mode": "markers",
         "name": "Шум заданный = 11",
         "type": "scatter3d",
         "x": [
          1,
          5,
          10,
          20,
          30,
          35,
          40
         ],
         "y": [
          1.1101968469206918,
          5.273435117066508,
          9.926466565096787,
          20.13157236752293,
          30.267846563524113,
          -1,
          -1
         ],
         "z": [
          633.6818436236024,
          370.43617455995883,
          331.9753067981227,
          207.18483594808572,
          77.71370574828431,
          0,
          0
         ]
        },
        {
         "marker": {
          "color": "blue",
          "size": 5
         },
         "mode": "markers",
         "name": "Шум заданный = 21",
         "type": "scatter3d",
         "x": [
          1,
          5,
          10,
          20,
          30,
          35,
          40
         ],
         "y": [
          1.1101968469206918,
          5.273435117066508,
          9.926466565096787,
          20.13157236752293,
          30.267846563524113,
          -1,
          -1
         ],
         "z": [
          218.08832783815313,
          128.78680187753253,
          112.14230232523909,
          70.64060109601421,
          26.473852239857397,
          0,
          0
         ]
        },
        {
         "marker": {
          "color": "skyblue",
          "size": 5
         },
         "mode": "markers",
         "name": "Шум заданный = 31",
         "type": "scatter3d",
         "x": [
          1,
          5,
          10,
          20,
          30,
          35,
          40
         ],
         "y": [
          1.1101968469206918,
          5.273435117066508,
          9.926466565096787,
          20.13157236752293,
          30.267846563524113,
          -1,
          -1
         ],
         "z": [
          109.85004990518695,
          60.90248956508563,
          51.998198183280735,
          35.54417558688454,
          12.73501649366441,
          0,
          0
         ]
        },
        {
         "marker": {
          "color": "yellow",
          "size": 5
         },
         "mode": "markers",
         "name": "Шум заданный = 41",
         "type": "scatter3d",
         "x": [
          1,
          5,
          10,
          20,
          30,
          35,
          40
         ],
         "y": [
          1.1101968469206918,
          5.273435117066508,
          9.926466565096787,
          20.13157236752293,
          29.46427541581993,
          -1,
          -1
         ],
         "z": [
          64.4377430141874,
          36.766044974653134,
          32.9249636545237,
          21.23443412135213,
          7.1909033335673955,
          0,
          0
         ]
        },
        {
         "marker": {
          "color": "purple",
          "size": 5
         },
         "mode": "markers",
         "name": "Шум заданный = 51",
         "type": "scatter3d",
         "x": [
          1,
          5,
          10,
          20,
          30,
          35,
          40
         ],
         "y": [
          1.1101968469206918,
          5.273435117066508,
          9.926466565096787,
          20.13157236752293,
          -1,
          -1,
          -1
         ],
         "z": [
          41.69157129275181,
          23.037042865510227,
          21.46813689657123,
          12.435148797163924,
          0,
          0,
          0
         ]
        },
        {
         "marker": {
          "color": "orange",
          "size": 5
         },
         "mode": "markers",
         "name": "Шум заданный = 61",
         "type": "scatter3d",
         "x": [
          1,
          5,
          10,
          20,
          30,
          35,
          40
         ],
         "y": [
          1.1101968469206918,
          5.273435117066508,
          9.926466565096787,
          20.13157236752293,
          -1,
          -1,
          -1
         ],
         "z": [
          29.197763592935566,
          15.852874280961071,
          14.66419680567306,
          8.054014014222506,
          0,
          0,
          0
         ]
        },
        {
         "marker": {
          "color": "pink",
          "size": 5
         },
         "mode": "markers",
         "name": "Шум заданный = 71",
         "type": "scatter3d",
         "x": [
          1,
          5,
          10,
          20,
          30,
          35,
          40
         ],
         "y": [
          1.1101968469206918,
          5.273435117066508,
          9.926466565096787,
          20.13157236752293,
          -1,
          -1,
          -1
         ],
         "z": [
          23.203245693349203,
          12.331261006570283,
          10.754085989986471,
          7.345087439014493,
          0,
          0,
          0
         ]
        },
        {
         "marker": {
          "color": "brown",
          "size": 5
         },
         "mode": "markers",
         "name": "Шум заданный = 81",
         "type": "scatter3d",
         "x": [
          1,
          5,
          10,
          20,
          30,
          35,
          40
         ],
         "y": [
          1.1101968469206918,
          5.273435117066508,
          9.926466565096787,
          19.539467297889903,
          -1,
          -1,
          -1
         ],
         "z": [
          18.5464490599441,
          10.056956741522852,
          8.828948157055187,
          4.763738369628057,
          0,
          0,
          0
         ]
        },
        {
         "marker": {
          "color": "black",
          "size": 5
         },
         "mode": "markers",
         "name": "Шум заданный = 91",
         "type": "scatter3d",
         "x": [
          1,
          5,
          10,
          20,
          30,
          35,
          40
         ],
         "y": [
          1.1101968469206918,
          5.273435117066508,
          9.926466565096787,
          -1,
          -1,
          -1,
          -1
         ],
         "z": [
          12.521873059684355,
          7.592042038374991,
          7.440125528693929,
          0,
          0,
          0,
          0
         ]
        }
       ],
       "layout": {
        "template": {
         "data": {
          "bar": [
           {
            "error_x": {
             "color": "#2a3f5f"
            },
            "error_y": {
             "color": "#2a3f5f"
            },
            "marker": {
             "line": {
              "color": "#E5ECF6",
              "width": 0.5
             },
             "pattern": {
              "fillmode": "overlay",
              "size": 10,
              "solidity": 0.2
             }
            },
            "type": "bar"
           }
          ],
          "barpolar": [
           {
            "marker": {
             "line": {
              "color": "#E5ECF6",
              "width": 0.5
             },
             "pattern": {
              "fillmode": "overlay",
              "size": 10,
              "solidity": 0.2
             }
            },
            "type": "barpolar"
           }
          ],
          "carpet": [
           {
            "aaxis": {
             "endlinecolor": "#2a3f5f",
             "gridcolor": "white",
             "linecolor": "white",
             "minorgridcolor": "white",
             "startlinecolor": "#2a3f5f"
            },
            "baxis": {
             "endlinecolor": "#2a3f5f",
             "gridcolor": "white",
             "linecolor": "white",
             "minorgridcolor": "white",
             "startlinecolor": "#2a3f5f"
            },
            "type": "carpet"
           }
          ],
          "choropleth": [
           {
            "colorbar": {
             "outlinewidth": 0,
             "ticks": ""
            },
            "type": "choropleth"
           }
          ],
          "contour": [
           {
            "colorbar": {
             "outlinewidth": 0,
             "ticks": ""
            },
            "colorscale": [
             [
              0,
              "#0d0887"
             ],
             [
              0.1111111111111111,
              "#46039f"
             ],
             [
              0.2222222222222222,
              "#7201a8"
             ],
             [
              0.3333333333333333,
              "#9c179e"
             ],
             [
              0.4444444444444444,
              "#bd3786"
             ],
             [
              0.5555555555555556,
              "#d8576b"
             ],
             [
              0.6666666666666666,
              "#ed7953"
             ],
             [
              0.7777777777777778,
              "#fb9f3a"
             ],
             [
              0.8888888888888888,
              "#fdca26"
             ],
             [
              1,
              "#f0f921"
             ]
            ],
            "type": "contour"
           }
          ],
          "contourcarpet": [
           {
            "colorbar": {
             "outlinewidth": 0,
             "ticks": ""
            },
            "type": "contourcarpet"
           }
          ],
          "heatmap": [
           {
            "colorbar": {
             "outlinewidth": 0,
             "ticks": ""
            },
            "colorscale": [
             [
              0,
              "#0d0887"
             ],
             [
              0.1111111111111111,
              "#46039f"
             ],
             [
              0.2222222222222222,
              "#7201a8"
             ],
             [
              0.3333333333333333,
              "#9c179e"
             ],
             [
              0.4444444444444444,
              "#bd3786"
             ],
             [
              0.5555555555555556,
              "#d8576b"
             ],
             [
              0.6666666666666666,
              "#ed7953"
             ],
             [
              0.7777777777777778,
              "#fb9f3a"
             ],
             [
              0.8888888888888888,
              "#fdca26"
             ],
             [
              1,
              "#f0f921"
             ]
            ],
            "type": "heatmap"
           }
          ],
          "heatmapgl": [
           {
            "colorbar": {
             "outlinewidth": 0,
             "ticks": ""
            },
            "colorscale": [
             [
              0,
              "#0d0887"
             ],
             [
              0.1111111111111111,
              "#46039f"
             ],
             [
              0.2222222222222222,
              "#7201a8"
             ],
             [
              0.3333333333333333,
              "#9c179e"
             ],
             [
              0.4444444444444444,
              "#bd3786"
             ],
             [
              0.5555555555555556,
              "#d8576b"
             ],
             [
              0.6666666666666666,
              "#ed7953"
             ],
             [
              0.7777777777777778,
              "#fb9f3a"
             ],
             [
              0.8888888888888888,
              "#fdca26"
             ],
             [
              1,
              "#f0f921"
             ]
            ],
            "type": "heatmapgl"
           }
          ],
          "histogram": [
           {
            "marker": {
             "pattern": {
              "fillmode": "overlay",
              "size": 10,
              "solidity": 0.2
             }
            },
            "type": "histogram"
           }
          ],
          "histogram2d": [
           {
            "colorbar": {
             "outlinewidth": 0,
             "ticks": ""
            },
            "colorscale": [
             [
              0,
              "#0d0887"
             ],
             [
              0.1111111111111111,
              "#46039f"
             ],
             [
              0.2222222222222222,
              "#7201a8"
             ],
             [
              0.3333333333333333,
              "#9c179e"
             ],
             [
              0.4444444444444444,
              "#bd3786"
             ],
             [
              0.5555555555555556,
              "#d8576b"
             ],
             [
              0.6666666666666666,
              "#ed7953"
             ],
             [
              0.7777777777777778,
              "#fb9f3a"
             ],
             [
              0.8888888888888888,
              "#fdca26"
             ],
             [
              1,
              "#f0f921"
             ]
            ],
            "type": "histogram2d"
           }
          ],
          "histogram2dcontour": [
           {
            "colorbar": {
             "outlinewidth": 0,
             "ticks": ""
            },
            "colorscale": [
             [
              0,
              "#0d0887"
             ],
             [
              0.1111111111111111,
              "#46039f"
             ],
             [
              0.2222222222222222,
              "#7201a8"
             ],
             [
              0.3333333333333333,
              "#9c179e"
             ],
             [
              0.4444444444444444,
              "#bd3786"
             ],
             [
              0.5555555555555556,
              "#d8576b"
             ],
             [
              0.6666666666666666,
              "#ed7953"
             ],
             [
              0.7777777777777778,
              "#fb9f3a"
             ],
             [
              0.8888888888888888,
              "#fdca26"
             ],
             [
              1,
              "#f0f921"
             ]
            ],
            "type": "histogram2dcontour"
           }
          ],
          "mesh3d": [
           {
            "colorbar": {
             "outlinewidth": 0,
             "ticks": ""
            },
            "type": "mesh3d"
           }
          ],
          "parcoords": [
           {
            "line": {
             "colorbar": {
              "outlinewidth": 0,
              "ticks": ""
             }
            },
            "type": "parcoords"
           }
          ],
          "pie": [
           {
            "automargin": true,
            "type": "pie"
           }
          ],
          "scatter": [
           {
            "fillpattern": {
             "fillmode": "overlay",
             "size": 10,
             "solidity": 0.2
            },
            "type": "scatter"
           }
          ],
          "scatter3d": [
           {
            "line": {
             "colorbar": {
              "outlinewidth": 0,
              "ticks": ""
             }
            },
            "marker": {
             "colorbar": {
              "outlinewidth": 0,
              "ticks": ""
             }
            },
            "type": "scatter3d"
           }
          ],
          "scattercarpet": [
           {
            "marker": {
             "colorbar": {
              "outlinewidth": 0,
              "ticks": ""
             }
            },
            "type": "scattercarpet"
           }
          ],
          "scattergeo": [
           {
            "marker": {
             "colorbar": {
              "outlinewidth": 0,
              "ticks": ""
             }
            },
            "type": "scattergeo"
           }
          ],
          "scattergl": [
           {
            "marker": {
             "colorbar": {
              "outlinewidth": 0,
              "ticks": ""
             }
            },
            "type": "scattergl"
           }
          ],
          "scattermapbox": [
           {
            "marker": {
             "colorbar": {
              "outlinewidth": 0,
              "ticks": ""
             }
            },
            "type": "scattermapbox"
           }
          ],
          "scatterpolar": [
           {
            "marker": {
             "colorbar": {
              "outlinewidth": 0,
              "ticks": ""
             }
            },
            "type": "scatterpolar"
           }
          ],
          "scatterpolargl": [
           {
            "marker": {
             "colorbar": {
              "outlinewidth": 0,
              "ticks": ""
             }
            },
            "type": "scatterpolargl"
           }
          ],
          "scatterternary": [
           {
            "marker": {
             "colorbar": {
              "outlinewidth": 0,
              "ticks": ""
             }
            },
            "type": "scatterternary"
           }
          ],
          "surface": [
           {
            "colorbar": {
             "outlinewidth": 0,
             "ticks": ""
            },
            "colorscale": [
             [
              0,
              "#0d0887"
             ],
             [
              0.1111111111111111,
              "#46039f"
             ],
             [
              0.2222222222222222,
              "#7201a8"
             ],
             [
              0.3333333333333333,
              "#9c179e"
             ],
             [
              0.4444444444444444,
              "#bd3786"
             ],
             [
              0.5555555555555556,
              "#d8576b"
             ],
             [
              0.6666666666666666,
              "#ed7953"
             ],
             [
              0.7777777777777778,
              "#fb9f3a"
             ],
             [
              0.8888888888888888,
              "#fdca26"
             ],
             [
              1,
              "#f0f921"
             ]
            ],
            "type": "surface"
           }
          ],
          "table": [
           {
            "cells": {
             "fill": {
              "color": "#EBF0F8"
             },
             "line": {
              "color": "white"
             }
            },
            "header": {
             "fill": {
              "color": "#C8D4E3"
             },
             "line": {
              "color": "white"
             }
            },
            "type": "table"
           }
          ]
         },
         "layout": {
          "annotationdefaults": {
           "arrowcolor": "#2a3f5f",
           "arrowhead": 0,
           "arrowwidth": 1
          },
          "autotypenumbers": "strict",
          "coloraxis": {
           "colorbar": {
            "outlinewidth": 0,
            "ticks": ""
           }
          },
          "colorscale": {
           "diverging": [
            [
             0,
             "#8e0152"
            ],
            [
             0.1,
             "#c51b7d"
            ],
            [
             0.2,
             "#de77ae"
            ],
            [
             0.3,
             "#f1b6da"
            ],
            [
             0.4,
             "#fde0ef"
            ],
            [
             0.5,
             "#f7f7f7"
            ],
            [
             0.6,
             "#e6f5d0"
            ],
            [
             0.7,
             "#b8e186"
            ],
            [
             0.8,
             "#7fbc41"
            ],
            [
             0.9,
             "#4d9221"
            ],
            [
             1,
             "#276419"
            ]
           ],
           "sequential": [
            [
             0,
             "#0d0887"
            ],
            [
             0.1111111111111111,
             "#46039f"
            ],
            [
             0.2222222222222222,
             "#7201a8"
            ],
            [
             0.3333333333333333,
             "#9c179e"
            ],
            [
             0.4444444444444444,
             "#bd3786"
            ],
            [
             0.5555555555555556,
             "#d8576b"
            ],
            [
             0.6666666666666666,
             "#ed7953"
            ],
            [
             0.7777777777777778,
             "#fb9f3a"
            ],
            [
             0.8888888888888888,
             "#fdca26"
            ],
            [
             1,
             "#f0f921"
            ]
           ],
           "sequentialminus": [
            [
             0,
             "#0d0887"
            ],
            [
             0.1111111111111111,
             "#46039f"
            ],
            [
             0.2222222222222222,
             "#7201a8"
            ],
            [
             0.3333333333333333,
             "#9c179e"
            ],
            [
             0.4444444444444444,
             "#bd3786"
            ],
            [
             0.5555555555555556,
             "#d8576b"
            ],
            [
             0.6666666666666666,
             "#ed7953"
            ],
            [
             0.7777777777777778,
             "#fb9f3a"
            ],
            [
             0.8888888888888888,
             "#fdca26"
            ],
            [
             1,
             "#f0f921"
            ]
           ]
          },
          "colorway": [
           "#636efa",
           "#EF553B",
           "#00cc96",
           "#ab63fa",
           "#FFA15A",
           "#19d3f3",
           "#FF6692",
           "#B6E880",
           "#FF97FF",
           "#FECB52"
          ],
          "font": {
           "color": "#2a3f5f"
          },
          "geo": {
           "bgcolor": "white",
           "lakecolor": "white",
           "landcolor": "#E5ECF6",
           "showlakes": true,
           "showland": true,
           "subunitcolor": "white"
          },
          "hoverlabel": {
           "align": "left"
          },
          "hovermode": "closest",
          "mapbox": {
           "style": "light"
          },
          "paper_bgcolor": "white",
          "plot_bgcolor": "#E5ECF6",
          "polar": {
           "angularaxis": {
            "gridcolor": "white",
            "linecolor": "white",
            "ticks": ""
           },
           "bgcolor": "#E5ECF6",
           "radialaxis": {
            "gridcolor": "white",
            "linecolor": "white",
            "ticks": ""
           }
          },
          "scene": {
           "xaxis": {
            "backgroundcolor": "#E5ECF6",
            "gridcolor": "white",
            "gridwidth": 2,
            "linecolor": "white",
            "showbackground": true,
            "ticks": "",
            "zerolinecolor": "white"
           },
           "yaxis": {
            "backgroundcolor": "#E5ECF6",
            "gridcolor": "white",
            "gridwidth": 2,
            "linecolor": "white",
            "showbackground": true,
            "ticks": "",
            "zerolinecolor": "white"
           },
           "zaxis": {
            "backgroundcolor": "#E5ECF6",
            "gridcolor": "white",
            "gridwidth": 2,
            "linecolor": "white",
            "showbackground": true,
            "ticks": "",
            "zerolinecolor": "white"
           }
          },
          "shapedefaults": {
           "line": {
            "color": "#2a3f5f"
           }
          },
          "ternary": {
           "aaxis": {
            "gridcolor": "white",
            "linecolor": "white",
            "ticks": ""
           },
           "baxis": {
            "gridcolor": "white",
            "linecolor": "white",
            "ticks": ""
           },
           "bgcolor": "#E5ECF6",
           "caxis": {
            "gridcolor": "white",
            "linecolor": "white",
            "ticks": ""
           }
          },
          "title": {
           "x": 0.05
          },
          "xaxis": {
           "automargin": true,
           "gridcolor": "white",
           "linecolor": "white",
           "ticks": "",
           "title": {
            "standoff": 15
           },
           "zerolinecolor": "white",
           "zerolinewidth": 2
          },
          "yaxis": {
           "automargin": true,
           "gridcolor": "white",
           "linecolor": "white",
           "ticks": "",
           "title": {
            "standoff": 15
           },
           "zerolinecolor": "white",
           "zerolinewidth": 2
          }
         }
        }
       }
      }
     },
     "metadata": {},
     "output_type": "display_data"
    },
    {
     "data": {
      "image/png": "[encoded data removed]",
      "text/plain": [
       "<Figure size 640x480 with 1 Axes>"
      ]
     },
     "metadata": {},
     "output_type": "display_data"
    }
   ],
   "source": [
    "import plotly.graph_objects as go\n",
    "from IPython.display import clear_output\n",
    "import LCHM_matan\n",
    "# Ваш модуль LCHM_matan и другие зависимости ...\n",
    "\n",
    "colors = ['red', 'green', 'blue', 'skyblue', 'yellow', 'purple', 'orange', 'pink', 'brown', 'black', 'grey']\n",
    "\n",
    "fig = go.Figure()\n",
    "\n",
    "i = 0\n",
    "for noise in range(1, 100, 10):\n",
    "    x = []\n",
    "    y = []\n",
    "    z = []  # для хранения значений OSH\n",
    "    for r in [1,5,10,20,30,35,40]:\n",
    "        print(\"Расстояние до цели \", r)\n",
    "        LLS = LCHM_matan.LLS()\n",
    "        a_gen, t_gen = LLS.generator(0)\n",
    "        a_canal, t_canal = LLS.canal(a_gen, t_gen,r,0)\n",
    "        a_buger, t_buger = LLS.canal_buger(a_canal,t_canal,0)\n",
    "        a_buger_bgs, t_buger_bgs = LLS.canal_BGS(a_buger, t_buger,0,noise)\n",
    "        a_loc, t_loc = LLS.loc_sig_for_photodetector(a_gen,t_canal,0)\n",
    "        freq, spec, time = LLS.p_detector(a_loc, a_buger_bgs, t_buger_bgs, graf_time = 0, graf_spec = 0)\n",
    "        R_target, shym =  LLS.find_freq_bien(spec,freq,0)\n",
    "        \n",
    "        x.append(r)\n",
    "        y.append(R_target)\n",
    "        z.append(shym)  # добавляем значение OSH в список\n",
    "\n",
    "    scatter3d = go.Scatter3d(\n",
    "        x=x,\n",
    "        y=y,\n",
    "        z=z,  # добавляем третью координату в график\n",
    "        mode='markers',\n",
    "        marker=dict(\n",
    "            color=colors[i%11],  # добавил цикличность в выбор цветов, т.к. их у вас всего 11\n",
    "            size=5\n",
    "        ),\n",
    "        name=\"Шум заданный = \" + str(noise)\n",
    "    )\n",
    "\n",
    "    fig.add_trace(scatter3d)\n",
    "\n",
    "    clear_output(wait=True)\n",
    "    fig.show()\n",
    "\n",
    "    i += 1"
   ]
  }
 ],
 "metadata": {
  "kernelspec": {
   "display_name": "Python 3",
   "language": "python",
   "name": "python3"
  },
  "language_info": {
   "codemirror_mode": {
    "name": "ipython",
    "version": 3
   },
   "file_extension": ".py",
   "mimetype": "text/x-python",
   "name": "python",
   "nbconvert_exporter": "python",
   "pygments_lexer": "ipython3",
   "version": "3.11.1"
  },
  "orig_nbformat": 4
 },
 "nbformat": 4,
 "nbformat_minor": 2
}
